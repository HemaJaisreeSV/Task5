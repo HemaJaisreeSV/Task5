{
 "cells": [
  {
   "cell_type": "code",
   "execution_count": 7,
   "metadata": {},
   "outputs": [
    {
     "name": "stdout",
     "output_type": "stream",
     "text": [
      "Enter the student information for student #1 in the following format(Name Age Contact_Number E-mail_ID)a 18 198913193 a.18@gmail.com\n",
      "\n",
      "The entered information is\n",
      "Name: a\n",
      "Age: 18\n",
      "Contact Number: 198913193\n",
      "E-mail ID: a.18@gmail.com\n",
      "\n",
      "Is the entered information correct? (yes/no): yes\n",
      "Enter (yes/no) if you want to enter information for another student: yes\n",
      "Enter the student information for student #2 in the following format(Name Age Contact_Number E-mail_ID)b 18 327746847 b.18@gmail.com\n",
      "\n",
      "The entered information is\n",
      "Name: b\n",
      "Age: 18\n",
      "Contact Number: 327746847\n",
      "E-mail ID: b.18@gmail.com\n",
      "\n",
      "Is the entered information correct? (yes/no): yes\n",
      "Enter (yes/no) if you want to enter information for another student: yes\n",
      "Enter the student information for student #3 in the following format(Name Age Contact_Number E-mail_ID)c 19 218472193 c_19@gmail.com\n",
      "\n",
      "The entered information is\n",
      "Name: c\n",
      "Age: 19\n",
      "Contact Number: 218472193\n",
      "E-mail ID: c_19@gmail.com\n",
      "\n",
      "Is the entered information correct? (yes/no): yes\n",
      "Enter (yes/no) if you want to enter information for another student: yes\n",
      "Enter the student information for student #4 in the following format(Name Age Contact_Number E-mail_ID)d 19 392894239 d_19@gmail.com\n",
      "\n",
      "The entered information is\n",
      "Name: d\n",
      "Age: 19\n",
      "Contact Number: 392894239\n",
      "E-mail ID: d_19@gmail.com\n",
      "\n",
      "Is the entered information correct? (yes/no): yes\n",
      "Enter (yes/no) if you want to enter information for another student: no\n"
     ]
    }
   ],
   "source": [
    "import csv\n",
    "def write_into_csv(info_list):\n",
    "    with open('student_info.csv','a',newline='') as csv_file:\n",
    "        writer = csv.writer(csv_file)\n",
    "        \n",
    "        if csv_file.tell() == 0:\n",
    "            writer.writerow([\"Name\",\"Age\",\"Contact Number\",\"E-mail ID\"])\n",
    "            \n",
    "        writer.writerow(info_list)\n",
    "        \n",
    "if __name__ == '__main__':\n",
    "    condition = True\n",
    "    student_num = 1\n",
    "    \n",
    "    while(condition):\n",
    "        student_info = input(\"Enter the student information for student #{} in the following format(Name Age Contact_Number E-mail_ID)\".format(student_num))\n",
    "        \n",
    "        \n",
    "        student_info_list = student_info.split(' ')\n",
    "        \n",
    "        print(\"\\nThe entered information is\\nName: {}\\nAge: {}\\nContact Number: {}\\nE-mail ID: {}\\n\".format(student_info_list[0],student_info_list[1],student_info_list[2],student_info_list[3]))\n",
    "        \n",
    "        choice_check = input(\"Is the entered information correct? (yes/no): \")\n",
    "        \n",
    "        if(choice_check == \"yes\"):\n",
    "            write_into_csv(student_info_list)\n",
    "            \n",
    "            condition_check = input(\"Enter (yes/no) if you want to enter information for another student: \")\n",
    "            \n",
    "            if(condition_check == \"yes\"):\n",
    "                condition = True\n",
    "                student_num = student_num + 1\n",
    "            elif(condition_check == \"no\"):\n",
    "                condition = False\n",
    "        elif(choice_check == \"no\"):\n",
    "            print(\"Please re-enter the values\")"
   ]
  },
  {
   "cell_type": "code",
   "execution_count": null,
   "metadata": {},
   "outputs": [],
   "source": []
  }
 ],
 "metadata": {
  "kernelspec": {
   "display_name": "Python 3",
   "language": "python",
   "name": "python3"
  },
  "language_info": {
   "codemirror_mode": {
    "name": "ipython",
    "version": 3
   },
   "file_extension": ".py",
   "mimetype": "text/x-python",
   "name": "python",
   "nbconvert_exporter": "python",
   "pygments_lexer": "ipython3",
   "version": "3.7.6"
  }
 },
 "nbformat": 4,
 "nbformat_minor": 4
}
